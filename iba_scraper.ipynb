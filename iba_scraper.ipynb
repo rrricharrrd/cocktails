{
 "cells": [
  {
   "cell_type": "code",
   "execution_count": 1,
   "metadata": {},
   "outputs": [],
   "source": [
    "import json\n",
    "import requests\n",
    "from bs4 import BeautifulSoup"
   ]
  },
  {
   "cell_type": "code",
   "execution_count": 2,
   "metadata": {
    "collapsed": true
   },
   "outputs": [],
   "source": [
    "IBA_URLS = [\n",
    "    'http://iba-world.com/iba-cocktails/',\n",
    "    'http://iba-world.com/contemporary-classics/',\n",
    "    'http://iba-world.com/new-era-drinks/'\n",
    "]"
   ]
  },
  {
   "cell_type": "code",
   "execution_count": 3,
   "metadata": {
    "collapsed": true
   },
   "outputs": [],
   "source": [
    "def parse_ingredients(raw_ingredients):\n",
    "    ingredients = []\n",
    "    for i in raw_ingredients:\n",
    "        fields = i.strip().split()\n",
    "        \n",
    "        # Rubbish heuristic for ingredients like \"salt\"\n",
    "        if len(fields) > 2:\n",
    "            quantity = fields[0]\n",
    "            amount = fields[1]\n",
    "            ingredient = ' '.join(fields[2:])\n",
    "        else:\n",
    "            ingredient = ' '.join(fields[2:])\n",
    "        ingredients.append({'quantity': quantity, 'amount': amount, 'ingredient': ingredient})\n",
    "    return ingredients"
   ]
  },
  {
   "cell_type": "code",
   "execution_count": 4,
   "metadata": {
    "collapsed": true
   },
   "outputs": [],
   "source": [
    "def parse_recipe(cocktail):\n",
    "    name = cocktail.find('h3').string\n",
    "    ingredients = [child.string for child in cocktail.find('ul').children if child.string != '\\n']\n",
    "    return name, ingredients"
   ]
  },
  {
   "cell_type": "code",
   "execution_count": 5,
   "metadata": {
    "collapsed": true
   },
   "outputs": [],
   "source": [
    "def parse_cocktail(raw_cocktail):\n",
    "    try:\n",
    "        name, raw_ingredients = parse_recipe(raw_cocktail)\n",
    "        ingredients = parse_ingredients(raw_ingredients)\n",
    "        return {'name': name, 'ingredients': ingredients}\n",
    "    except:\n",
    "        pass"
   ]
  },
  {
   "cell_type": "code",
   "execution_count": 6,
   "metadata": {
    "collapsed": true
   },
   "outputs": [],
   "source": [
    "def get_cocktails(url):\n",
    "    request = requests.get(url)\n",
    "    soup = BeautifulSoup(request.text, 'html.parser')\n",
    "    raw_cocktails = soup.find_all('div', class_='blog_list_item_lists')\n",
    "    cocktails = [parse_cocktail(raw_cocktail) for raw_cocktail in raw_cocktails]\n",
    "    return cocktails"
   ]
  },
  {
   "cell_type": "code",
   "execution_count": 7,
   "metadata": {},
   "outputs": [],
   "source": [
    "cocktails = []\n",
    "for url in IBA_URLS:\n",
    "    cocktails.extend(get_cocktails(url))"
   ]
  },
  {
   "cell_type": "code",
   "execution_count": 8,
   "metadata": {},
   "outputs": [],
   "source": [
    "with open('cocktails.json', 'w') as f:\n",
    "    f.write(json.dumps(cocktails))"
   ]
  },
  {
   "cell_type": "code",
   "execution_count": 9,
   "metadata": {},
   "outputs": [
    {
     "data": {
      "text/plain": [
       "{'ingredients': [{'amount': u'cl', 'ingredient': u'Cognac', 'quantity': u'3'},\n",
       "  {'amount': u'cl',\n",
       "   'ingredient': u'Cr\\xe9me de Cacao (brown)',\n",
       "   'quantity': u'3'},\n",
       "  {'amount': u'cl', 'ingredient': u'Fresh cream', 'quantity': u'3'}],\n",
       " 'name': u'ALEXANDER'}"
      ]
     },
     "execution_count": 9,
     "metadata": {},
     "output_type": "execute_result"
    }
   ],
   "source": [
    "cocktails[0]"
   ]
  },
  {
   "cell_type": "code",
   "execution_count": null,
   "metadata": {
    "collapsed": true
   },
   "outputs": [],
   "source": []
  }
 ],
 "metadata": {
  "kernelspec": {
   "display_name": "Python 2",
   "language": "python",
   "name": "python2"
  },
  "language_info": {
   "codemirror_mode": {
    "name": "ipython",
    "version": 2
   },
   "file_extension": ".py",
   "mimetype": "text/x-python",
   "name": "python",
   "nbconvert_exporter": "python",
   "pygments_lexer": "ipython2",
   "version": "2.7.13"
  }
 },
 "nbformat": 4,
 "nbformat_minor": 2
}
